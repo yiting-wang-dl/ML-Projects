{
 "cells": [
  {
   "cell_type": "markdown",
   "metadata": {},
   "source": [
    "#  IMDb Movie Review \n",
    "Sentiment Analysis Practice"
   ]
  },
  {
   "cell_type": "markdown",
   "metadata": {},
   "source": [
    "Build a pipeline for sentiment analysis.\n",
    "\n",
    "1. Tokenization\n",
    "2. Normalization\n",
    "3. Vectorization\n",
    "4. Training  -- Multinomial NB\n",
    "5. Evaluation"
   ]
  },
  {
   "cell_type": "code",
   "execution_count": 1,
   "metadata": {},
   "outputs": [],
   "source": [
    "import pandas as pd\n",
    "import numpy as np\n",
    "pd.set_option('max_colwidth', 500)"
   ]
  },
  {
   "cell_type": "code",
   "execution_count": 2,
   "metadata": {},
   "outputs": [
    {
     "data": {
      "text/html": [
       "<div>\n",
       "<style scoped>\n",
       "    .dataframe tbody tr th:only-of-type {\n",
       "        vertical-align: middle;\n",
       "    }\n",
       "\n",
       "    .dataframe tbody tr th {\n",
       "        vertical-align: top;\n",
       "    }\n",
       "\n",
       "    .dataframe thead th {\n",
       "        text-align: right;\n",
       "    }\n",
       "</style>\n",
       "<table border=\"1\" class=\"dataframe\">\n",
       "  <thead>\n",
       "    <tr style=\"text-align: right;\">\n",
       "      <th></th>\n",
       "      <th>text</th>\n",
       "      <th>sentiment</th>\n",
       "    </tr>\n",
       "  </thead>\n",
       "  <tbody>\n",
       "    <tr>\n",
       "      <th>20382</th>\n",
       "      <td>...had I watched it in my teenage years. This movie was mildly entertaining. What I liked about Soul Survivors were the gothic atmosphere during the party scenes, and the constant flips between 'dream' and 'reality.&lt;br /&gt;&lt;br /&gt;Had there not been movies like 'The 6th Sense' and 'Don't Look Now' I would have been surprised by the ending.</td>\n",
       "      <td>neg</td>\n",
       "    </tr>\n",
       "    <tr>\n",
       "      <th>20469</th>\n",
       "      <td>\"Sleeping With the Enemy\" is a predictable, 'been there before' thriller that never seems to find any inspiration no matter how desperately cast and crew try. I can't believe a bunch of my friends talked me into seeing this at the movies some sixteen years ago.&lt;br /&gt;&lt;br /&gt;The complete lack of originality from the Ronald Bass screenplay (based upon the Nancy Price novel) does not help, nor does the stale direction of Joseph Ruben or the very average performance from Julia Roberts. The support...</td>\n",
       "      <td>neg</td>\n",
       "    </tr>\n",
       "    <tr>\n",
       "      <th>917</th>\n",
       "      <td>This is one a most famous movies of the French sexual empowerment of the seventies, starring Gerard Depardieu and Patrick Dewaere in extremely sarcastic roles. It is also one of the many dark psychological dramas of the seventies/eighties, such as \"Serie Noire\", \"Buffet Froid\", \"Beau Pere\", all realized by Blier.&lt;br /&gt;&lt;br /&gt;However, I would like to correct the previous comment that was posted on the movie: the translated title in English is very far from the French version. It is true that b...</td>\n",
       "      <td>pos</td>\n",
       "    </tr>\n",
       "    <tr>\n",
       "      <th>9608</th>\n",
       "      <td>Along with \"Brothers &amp; Sisters\", \"Six Degrees\" was one of my favorite new dramas of fall 2006. &lt;br /&gt;&lt;br /&gt;Great cast all around, but really enjoyed the work of Campbell Scott (the come-back photog) and Hope Davis (recent widow of journalist killed in Iraq).&lt;br /&gt;&lt;br /&gt;Aside from the acting, the writing was fresh and the acting superb. The show was also shot in NYC, the real city, not the Warner Bros. or some other studio's backlot, adding a secondary layer or realism. &lt;br /&gt;&lt;br /&gt;I guess pe...</td>\n",
       "      <td>pos</td>\n",
       "    </tr>\n",
       "    <tr>\n",
       "      <th>12845</th>\n",
       "      <td>Some nice scenery, but the story itself--in which a self-proclaimed Egyptologist (Lesley-Anne Down) visits Egypt and, in the course of doing Egyptologist things in the most un-Egyptologistic of ways (e.g., flash photography in the tombs, the handling of old parchment, etc.), uncovers a black market turf war and somehow (in the span of two days, no less!) becomes that war's jumpsuit-wearing epicenter--is more puzzling than any riddle the Sphinx ever posed. Down is simply awful as the visiting...</td>\n",
       "      <td>neg</td>\n",
       "    </tr>\n",
       "  </tbody>\n",
       "</table>\n",
       "</div>"
      ],
      "text/plain": [
       "                                                                                                                                                                                                                                                                                                                                                                                                                                                                                                                      text  \\\n",
       "20382                                                                                                                                                                    ...had I watched it in my teenage years. This movie was mildly entertaining. What I liked about Soul Survivors were the gothic atmosphere during the party scenes, and the constant flips between 'dream' and 'reality.<br /><br />Had there not been movies like 'The 6th Sense' and 'Don't Look Now' I would have been surprised by the ending.   \n",
       "20469  \"Sleeping With the Enemy\" is a predictable, 'been there before' thriller that never seems to find any inspiration no matter how desperately cast and crew try. I can't believe a bunch of my friends talked me into seeing this at the movies some sixteen years ago.<br /><br />The complete lack of originality from the Ronald Bass screenplay (based upon the Nancy Price novel) does not help, nor does the stale direction of Joseph Ruben or the very average performance from Julia Roberts. The support...   \n",
       "917    This is one a most famous movies of the French sexual empowerment of the seventies, starring Gerard Depardieu and Patrick Dewaere in extremely sarcastic roles. It is also one of the many dark psychological dramas of the seventies/eighties, such as \"Serie Noire\", \"Buffet Froid\", \"Beau Pere\", all realized by Blier.<br /><br />However, I would like to correct the previous comment that was posted on the movie: the translated title in English is very far from the French version. It is true that b...   \n",
       "9608   Along with \"Brothers & Sisters\", \"Six Degrees\" was one of my favorite new dramas of fall 2006. <br /><br />Great cast all around, but really enjoyed the work of Campbell Scott (the come-back photog) and Hope Davis (recent widow of journalist killed in Iraq).<br /><br />Aside from the acting, the writing was fresh and the acting superb. The show was also shot in NYC, the real city, not the Warner Bros. or some other studio's backlot, adding a secondary layer or realism. <br /><br />I guess pe...   \n",
       "12845  Some nice scenery, but the story itself--in which a self-proclaimed Egyptologist (Lesley-Anne Down) visits Egypt and, in the course of doing Egyptologist things in the most un-Egyptologistic of ways (e.g., flash photography in the tombs, the handling of old parchment, etc.), uncovers a black market turf war and somehow (in the span of two days, no less!) becomes that war's jumpsuit-wearing epicenter--is more puzzling than any riddle the Sphinx ever posed. Down is simply awful as the visiting...   \n",
       "\n",
       "      sentiment  \n",
       "20382       neg  \n",
       "20469       neg  \n",
       "917         pos  \n",
       "9608        pos  \n",
       "12845       neg  "
      ]
     },
     "execution_count": 2,
     "metadata": {},
     "output_type": "execute_result"
    }
   ],
   "source": [
    "train = pd.read_csv(\"train.csv\")\n",
    "train.sample(5)"
   ]
  },
  {
   "cell_type": "code",
   "execution_count": 3,
   "metadata": {},
   "outputs": [
    {
     "data": {
      "text/html": [
       "<div>\n",
       "<style scoped>\n",
       "    .dataframe tbody tr th:only-of-type {\n",
       "        vertical-align: middle;\n",
       "    }\n",
       "\n",
       "    .dataframe tbody tr th {\n",
       "        vertical-align: top;\n",
       "    }\n",
       "\n",
       "    .dataframe thead th {\n",
       "        text-align: right;\n",
       "    }\n",
       "</style>\n",
       "<table border=\"1\" class=\"dataframe\">\n",
       "  <thead>\n",
       "    <tr style=\"text-align: right;\">\n",
       "      <th></th>\n",
       "      <th>text</th>\n",
       "      <th>sentiment</th>\n",
       "    </tr>\n",
       "  </thead>\n",
       "  <tbody>\n",
       "    <tr>\n",
       "      <th>8141</th>\n",
       "      <td>This movie appears to have been overlooked by everyone. Someone should bring it out on VHS and DVD. It is an excellent film and far superior to the one with Brooke Shields, which was terrible. &lt;br /&gt;&lt;br /&gt;Jean Simmons deserves more credit than she is getting now days. It would be nice if all her films were offered on VHS or DVD. Jean Simmons was, and still is, a very good actress. She certainly was a beauty. In fact, she is still a beauty. She also has done extremely well on T.V. She is so m...</td>\n",
       "      <td>pos</td>\n",
       "    </tr>\n",
       "    <tr>\n",
       "      <th>21890</th>\n",
       "      <td>===========BIG SPOILER================================== This is a terrible movie with no likable characters. So many clichés and senseless scenes. It needs a good editor but then there might not be any movie left. Please save your two hours. The only de</td>\n",
       "      <td>neg</td>\n",
       "    </tr>\n",
       "    <tr>\n",
       "      <th>22049</th>\n",
       "      <td>Odious Chuck Norris decided to put one final nail in the coffin&lt;br /&gt;&lt;br /&gt;containing his film career before going to the safe world of CBS&lt;br /&gt;&lt;br /&gt;Saturday night carnage with this hysterically bad supernatural&lt;br /&gt;&lt;br /&gt;actioner.&lt;br /&gt;&lt;br /&gt;For such a dumb movie this thing sure is plotty. Norris is Chicago&lt;br /&gt;&lt;br /&gt;cop Frank Shatter. First off, what kind of last name is \"Shatter\"?&lt;br /&gt;&lt;br /&gt;Have you ever met any Shatters? Genforum.com has no listing for&lt;br /&gt;&lt;br /&gt;the last name Shatt...</td>\n",
       "      <td>neg</td>\n",
       "    </tr>\n",
       "    <tr>\n",
       "      <th>21578</th>\n",
       "      <td>The other day I showed my boyfriend a great movie, Stand By Me, a movie I have shown to many people and they absolutely adored it, but for some odd reason he didn't like it. He lends me a movie called Backdraft and he tells me that he's shown it to many people and they loved it, instead I hated this movie. I don't think I've hated a movie so much in a while, how this movie has even a 6.6 rating is beyond me. I couldn't keep up with the five million stories here: Billy Baldwin becoming a fire...</td>\n",
       "      <td>neg</td>\n",
       "    </tr>\n",
       "    <tr>\n",
       "      <th>21543</th>\n",
       "      <td>First off, I just watched a movie on SHOWTIME called Survival Island. It says it was a 2006 movie with Billy Zane and since I like him and couldn't sleep I thought I would check it out. Looked interesting. Watched it, and decided to look up on the IMDb who was this new face Juan Pablo Di Pace and OMG I could not believe it, this movie has been renamed THREE and will be a new movie?? It is playing again in 1 hr and 30 mins on Showtime Channel again and this date is May 28 and EDT or Florida t...</td>\n",
       "      <td>neg</td>\n",
       "    </tr>\n",
       "  </tbody>\n",
       "</table>\n",
       "</div>"
      ],
      "text/plain": [
       "                                                                                                                                                                                                                                                                                                                                                                                                                                                                                                                      text  \\\n",
       "8141   This movie appears to have been overlooked by everyone. Someone should bring it out on VHS and DVD. It is an excellent film and far superior to the one with Brooke Shields, which was terrible. <br /><br />Jean Simmons deserves more credit than she is getting now days. It would be nice if all her films were offered on VHS or DVD. Jean Simmons was, and still is, a very good actress. She certainly was a beauty. In fact, she is still a beauty. She also has done extremely well on T.V. She is so m...   \n",
       "21890                                                                                                                                                                                                                                                       ===========BIG SPOILER================================== This is a terrible movie with no likable characters. So many clichés and senseless scenes. It needs a good editor but then there might not be any movie left. Please save your two hours. The only de   \n",
       "22049  Odious Chuck Norris decided to put one final nail in the coffin<br /><br />containing his film career before going to the safe world of CBS<br /><br />Saturday night carnage with this hysterically bad supernatural<br /><br />actioner.<br /><br />For such a dumb movie this thing sure is plotty. Norris is Chicago<br /><br />cop Frank Shatter. First off, what kind of last name is \"Shatter\"?<br /><br />Have you ever met any Shatters? Genforum.com has no listing for<br /><br />the last name Shatt...   \n",
       "21578  The other day I showed my boyfriend a great movie, Stand By Me, a movie I have shown to many people and they absolutely adored it, but for some odd reason he didn't like it. He lends me a movie called Backdraft and he tells me that he's shown it to many people and they loved it, instead I hated this movie. I don't think I've hated a movie so much in a while, how this movie has even a 6.6 rating is beyond me. I couldn't keep up with the five million stories here: Billy Baldwin becoming a fire...   \n",
       "21543  First off, I just watched a movie on SHOWTIME called Survival Island. It says it was a 2006 movie with Billy Zane and since I like him and couldn't sleep I thought I would check it out. Looked interesting. Watched it, and decided to look up on the IMDb who was this new face Juan Pablo Di Pace and OMG I could not believe it, this movie has been renamed THREE and will be a new movie?? It is playing again in 1 hr and 30 mins on Showtime Channel again and this date is May 28 and EDT or Florida t...   \n",
       "\n",
       "      sentiment  \n",
       "8141        pos  \n",
       "21890       neg  \n",
       "22049       neg  \n",
       "21578       neg  \n",
       "21543       neg  "
      ]
     },
     "execution_count": 3,
     "metadata": {},
     "output_type": "execute_result"
    }
   ],
   "source": [
    "test = pd.read_csv(\"test.csv\")\n",
    "test.sample(5)"
   ]
  },
  {
   "cell_type": "code",
   "execution_count": 4,
   "metadata": {},
   "outputs": [
    {
     "name": "stdout",
     "output_type": "stream",
     "text": [
      "train shape: (25000, 2)\n",
      "test  shape: (25000, 2)\n"
     ]
    }
   ],
   "source": [
    "print('train shape:', train.shape)\n",
    "print('test  shape:', test.shape)"
   ]
  },
  {
   "cell_type": "code",
   "execution_count": 5,
   "metadata": {},
   "outputs": [
    {
     "data": {
      "text/plain": [
       "neg    12500\n",
       "pos    12500\n",
       "Name: sentiment, dtype: int64"
      ]
     },
     "execution_count": 5,
     "metadata": {},
     "output_type": "execute_result"
    }
   ],
   "source": [
    "# check data balance\n",
    "train['sentiment'].value_counts()"
   ]
  },
  {
   "cell_type": "markdown",
   "metadata": {
    "nbpresent": {
     "id": "e2e6ba14-7fea-4c02-88e9-f87688e70238"
    }
   },
   "source": [
    "## Preprocessing"
   ]
  },
  {
   "cell_type": "markdown",
   "metadata": {},
   "source": [
    "### Tokenization and Normalization\n",
    "\n",
    "1. Remove HTML tag (`<br />` in this case) from the review text\n",
    "2. Remove punctuations (replace with whitespace)\n",
    "3. Split review text into tokens\n",
    "4. Remove tokens that are considered as \"**stopwords**\"\n",
    "5. For the rest, do lemmatization"
   ]
  },
  {
   "cell_type": "code",
   "execution_count": 6,
   "metadata": {},
   "outputs": [
    {
     "name": "stderr",
     "output_type": "stream",
     "text": [
      "[nltk_data] Downloading package stopwords to\n",
      "[nltk_data]     /Users/yiting/nltk_data...\n",
      "[nltk_data]   Unzipping corpora/stopwords.zip.\n",
      "[nltk_data] Downloading package punkt to /Users/yiting/nltk_data...\n",
      "[nltk_data]   Unzipping tokenizers/punkt.zip.\n",
      "[nltk_data] Downloading package wordnet to /Users/yiting/nltk_data...\n",
      "[nltk_data]   Unzipping corpora/wordnet.zip.\n"
     ]
    },
    {
     "data": {
      "text/plain": [
       "True"
      ]
     },
     "execution_count": 6,
     "metadata": {},
     "output_type": "execute_result"
    }
   ],
   "source": [
    "import nltk    # natural language tool kit\n",
    "import string\n",
    "nltk.download('stopwords')\n",
    "nltk.download('punkt')\n",
    "nltk.download('wordnet')"
   ]
  },
  {
   "cell_type": "code",
   "execution_count": 7,
   "metadata": {},
   "outputs": [],
   "source": [
    "transtbl = str.maketrans(string.punctuation, ' ' * len(string.punctuation))  # replace punctuation with space ''\n",
    "stopwords = nltk.corpus.stopwords.words('english')   #  stopwords from nltk\n",
    "lemmatizer = nltk.WordNetLemmatizer()      # nltk 里已经训练好的词干提取器"
   ]
  },
  {
   "cell_type": "code",
   "execution_count": 8,
   "metadata": {},
   "outputs": [
    {
     "data": {
      "text/plain": [
       "['i', 'me', 'my', 'myself', 'we', 'our', 'ours', 'ourselves', 'you', \"you're\"]"
      ]
     },
     "execution_count": 8,
     "metadata": {},
     "output_type": "execute_result"
    }
   ],
   "source": [
    "stopwords[:10]    # 在任何文本里，都可能出现很多次，但对文本分类没有实际意义的单词，做分类时一般会去除这些词。 "
   ]
  },
  {
   "cell_type": "code",
   "execution_count": 9,
   "metadata": {},
   "outputs": [],
   "source": [
    "def preprocessing(line: str) -> str:\n",
    "    \"\"\"\n",
    "    Take a text input and return the preprocessed string.\n",
    "    i.e.: preprocessed tokens concatenated by whitespace\n",
    "    \"\"\"\n",
    "    line = line.replace('<br />', '').translate(transtbl)    # 接受一个line 字符串，用replace的方法把html tag 给去掉，然后用translate 去掉标点符号。\n",
    "    \n",
    "    # list comprehension \n",
    "    tokens = [lemmatizer.lemmatize(t.lower(),'v')    # t 是一个token， lemmatizer.lemmatize 词根还原\n",
    "              for t in nltk.word_tokenize(line)\n",
    "              if t.lower() not in stopwords]\n",
    "    \n",
    "    return ' '.join(tokens)"
   ]
  },
  {
   "cell_type": "code",
   "execution_count": 10,
   "metadata": {},
   "outputs": [
    {
     "data": {
      "text/plain": [
       "'buy several book yesterday really love'"
      ]
     },
     "execution_count": 10,
     "metadata": {},
     "output_type": "execute_result"
    }
   ],
   "source": [
    "# test \n",
    "test_str = \"I bought several books yesterday<br /> and I really love them!\"\n",
    "preprocessing(test_str)"
   ]
  },
  {
   "cell_type": "code",
   "execution_count": 11,
   "metadata": {},
   "outputs": [],
   "source": [
    "from tqdm._tqdm_notebook import tqdm_notebook   #_tqdm -> tracking the progress of processing \n",
    "tqdm_notebook.pandas()"
   ]
  },
  {
   "cell_type": "code",
   "execution_count": 12,
   "metadata": {},
   "outputs": [
    {
     "data": {
      "application/vnd.jupyter.widget-view+json": {
       "model_id": "9fed09b031e2494d91dd150acdff2a52",
       "version_major": 2,
       "version_minor": 0
      },
      "text/plain": [
       "HBox(children=(IntProgress(value=0, max=25000), HTML(value='')))"
      ]
     },
     "metadata": {},
     "output_type": "display_data"
    },
    {
     "name": "stdout",
     "output_type": "stream",
     "text": [
      "\n"
     ]
    },
    {
     "data": {
      "application/vnd.jupyter.widget-view+json": {
       "model_id": "af8e206308734e85a34b5bbe12bfe99e",
       "version_major": 2,
       "version_minor": 0
      },
      "text/plain": [
       "HBox(children=(IntProgress(value=0, max=25000), HTML(value='')))"
      ]
     },
     "metadata": {},
     "output_type": "display_data"
    },
    {
     "name": "stdout",
     "output_type": "stream",
     "text": [
      "\n"
     ]
    }
   ],
   "source": [
    "for df in train, test:\n",
    "    df['text_prep'] = df['text'].progress_apply(preprocessing)\n",
    "    # df['text_prep'] = df['text'].apply(preprocessing)\n",
    "    # 本来应该用apply（preprocessing），这里用progress_apply（preprocessing）是因为之前引入了一个tqdm\n",
    "    # tqdm 是一个progress bar，会显示进度 "
   ]
  },
  {
   "cell_type": "code",
   "execution_count": 13,
   "metadata": {},
   "outputs": [],
   "source": [
    "assert train.shape == (25000, 3)\n",
    "assert test.shape == (25000, 3)"
   ]
  },
  {
   "cell_type": "code",
   "execution_count": 14,
   "metadata": {},
   "outputs": [
    {
     "data": {
      "text/html": [
       "<div>\n",
       "<style scoped>\n",
       "    .dataframe tbody tr th:only-of-type {\n",
       "        vertical-align: middle;\n",
       "    }\n",
       "\n",
       "    .dataframe tbody tr th {\n",
       "        vertical-align: top;\n",
       "    }\n",
       "\n",
       "    .dataframe thead th {\n",
       "        text-align: right;\n",
       "    }\n",
       "</style>\n",
       "<table border=\"1\" class=\"dataframe\">\n",
       "  <thead>\n",
       "    <tr style=\"text-align: right;\">\n",
       "      <th></th>\n",
       "      <th>text</th>\n",
       "      <th>sentiment</th>\n",
       "      <th>text_prep</th>\n",
       "    </tr>\n",
       "  </thead>\n",
       "  <tbody>\n",
       "    <tr>\n",
       "      <th>21460</th>\n",
       "      <td>Zodiac Killer. 1 out of 10. Worst acting ever. No really worst acting ever. David Hess (Last House on the Left",
       ". No the one from the seventies",
       ". Rent it it's really good) is the worst of the bunch (Pretty stiff competition but he is amazingly god-awful.) One would be hard pressed to find a home movie participant with such an awkward camera presence. The film actually screeches to a stunning painful halt when he is on the screen.&lt;br /&gt;&lt;br /&gt;Not that the film actually has any redeeming qualiti...</td>\n",
       "      <td>neg</td>\n",
       "      <td>zodiac killer 1 10 worst act ever really worst act ever david hess last house leave one seventies rent really good worst bunch pretty stiff competition amazingly god awful one would hard press find home movie participant awkward camera presence film actually screech stun painful halt screen film actually redeem qualities mr hess ruin film home movie camera look things pretty old one complete attach boom mike post production either come shovelware five year old computer could use could clean ...</td>\n",
       "    </tr>\n",
       "    <tr>\n",
       "      <th>5064</th>\n",
       "      <td>This is a long lost horror gem starring Sydney Lassick (\"Carrie\" and others) and Barbara Bach. It is sometimes difficult to locate a copy of this film but it's worth it. This film is creepy yet cheesy at the same time. It seems that 3 young newswomen (Karen, Vicky, and Jennifer) travel to the small city of Solvang, California to cover a festival when a mix-up occurs involving their hotel room and they seek refuge at the home of Earnest Keller (Lassick) and his strange wife Virginia. Vickie s...</td>\n",
       "      <td>pos</td>\n",
       "      <td>long lose horror gem star sydney lassick carrie others barbara bach sometimes difficult locate copy film worth film creepy yet cheesy time seem 3 young newswomen karen vicky jennifer travel small city solvang california cover festival mix occur involve hotel room seek refuge home earnest keller lassick strange wife virginia vickie stay behind feel ill 2 film story soon murder house cheesy way unknown force hide ventilation system decapitate close cover vent come crash tug basement soon karen...</td>\n",
       "    </tr>\n",
       "  </tbody>\n",
       "</table>\n",
       "</div>"
      ],
      "text/plain": [
       "                                                                                                                                                                                                                                                                                                                                                                                                                                                                                                                      text  \\\n",
       "21460  Zodiac Killer. 1 out of 10. Worst acting ever. No really worst acting ever. David Hess (Last House on the Left\n",
       ". No the one from the seventies\n",
       ". Rent it it's really good) is the worst of the bunch (Pretty stiff competition but he is amazingly god-awful.) One would be hard pressed to find a home movie participant with such an awkward camera presence. The film actually screeches to a stunning painful halt when he is on the screen.<br /><br />Not that the film actually has any redeeming qualiti...   \n",
       "5064   This is a long lost horror gem starring Sydney Lassick (\"Carrie\" and others) and Barbara Bach. It is sometimes difficult to locate a copy of this film but it's worth it. This film is creepy yet cheesy at the same time. It seems that 3 young newswomen (Karen, Vicky, and Jennifer) travel to the small city of Solvang, California to cover a festival when a mix-up occurs involving their hotel room and they seek refuge at the home of Earnest Keller (Lassick) and his strange wife Virginia. Vickie s...   \n",
       "\n",
       "      sentiment  \\\n",
       "21460       neg   \n",
       "5064        pos   \n",
       "\n",
       "                                                                                                                                                                                                                                                                                                                                                                                                                                                                                                                 text_prep  \n",
       "21460  zodiac killer 1 10 worst act ever really worst act ever david hess last house leave one seventies rent really good worst bunch pretty stiff competition amazingly god awful one would hard press find home movie participant awkward camera presence film actually screech stun painful halt screen film actually redeem qualities mr hess ruin film home movie camera look things pretty old one complete attach boom mike post production either come shovelware five year old computer could use could clean ...  \n",
       "5064   long lose horror gem star sydney lassick carrie others barbara bach sometimes difficult locate copy film worth film creepy yet cheesy time seem 3 young newswomen karen vicky jennifer travel small city solvang california cover festival mix occur involve hotel room seek refuge home earnest keller lassick strange wife virginia vickie stay behind feel ill 2 film story soon murder house cheesy way unknown force hide ventilation system decapitate close cover vent come crash tug basement soon karen...  "
      ]
     },
     "execution_count": 14,
     "metadata": {},
     "output_type": "execute_result"
    }
   ],
   "source": [
    "train.sample(2)"
   ]
  },
  {
   "cell_type": "markdown",
   "metadata": {
    "nbpresent": {
     "id": "4eeefbfd-9a30-4e11-9647-daa037e26042"
    }
   },
   "source": [
    "### Build Vocabulary\n",
    "\n",
    "Built the vocabulay instead of using `CountVectorizer` (N-gram) provided by sklearn. \n",
    "\n",
    "Using words in training data for building vocabulary."
   ]
  },
  {
   "cell_type": "code",
   "execution_count": 15,
   "metadata": {
    "nbpresent": {
     "id": "f3befe75-935e-479c-b78e-a739199a7a95"
    }
   },
   "outputs": [
    {
     "data": {
      "application/vnd.jupyter.widget-view+json": {
       "model_id": "ac187e49e8c0465fbc3d535a895ea2c4",
       "version_major": 2,
       "version_minor": 0
      },
      "text/plain": [
       "HBox(children=(IntProgress(value=0, max=25000), HTML(value='')))"
      ]
     },
     "metadata": {},
     "output_type": "display_data"
    },
    {
     "name": "stdout",
     "output_type": "stream",
     "text": [
      "\n"
     ]
    }
   ],
   "source": [
    "# 把单词转化成向量： create 一个单词list，包含所有单词出现的次数 \n",
    "all_words = [w for text in tqdm_notebook(train['text_prep']) \n",
    "             for w in text.split()]   # w is every word in every line "
   ]
  },
  {
   "cell_type": "code",
   "execution_count": 16,
   "metadata": {
    "nbpresent": {
     "id": "e9e13deb-7fad-47d9-a5d3-9203e14e721c"
    }
   },
   "outputs": [
    {
     "name": "stdout",
     "output_type": "stream",
     "text": [
      "<FreqDist with 65081 samples and 3022531 outcomes>\n"
     ]
    }
   ],
   "source": [
    "# Use FreqDist to get count for each word\n",
    "voca = nltk.FreqDist(all_words)  \n",
    "print(voca)"
   ]
  },
  {
   "cell_type": "code",
   "execution_count": 17,
   "metadata": {
    "nbpresent": {
     "id": "e87733fb-34db-482b-a21a-acb88c5b3e93"
    }
   },
   "outputs": [
    {
     "data": {
      "text/plain": [
       "[('film', 48170),\n",
       " ('movie', 43912),\n",
       " ('one', 26747),\n",
       " ('make', 23538),\n",
       " ('like', 22335),\n",
       " ('see', 20773),\n",
       " ('get', 18108),\n",
       " ('time', 16143),\n",
       " ('good', 15124),\n",
       " ('character', 14153)]"
      ]
     },
     "execution_count": 17,
     "metadata": {},
     "output_type": "execute_result"
    }
   ],
   "source": [
    "voca.most_common(10)"
   ]
  },
  {
   "cell_type": "code",
   "execution_count": 18,
   "metadata": {
    "nbpresent": {
     "id": "9fb9823c-b17b-4a6b-a478-ee9a923148e8"
    }
   },
   "outputs": [],
   "source": [
    "# select the most common 10,000 words out of the total 60,000 words to avoid unnessasary words. 10,000 is subject to change\n",
    "topwords = [word for word, _ in voca.most_common(10000)]   "
   ]
  },
  {
   "cell_type": "markdown",
   "metadata": {
    "nbpresent": {
     "id": "ee88a760-c8c0-4c21-92b0-bc6235086445"
    }
   },
   "source": [
    "### Vectorization / Featurization  with tf-idf "
   ]
  },
  {
   "cell_type": "code",
   "execution_count": 19,
   "metadata": {
    "nbpresent": {
     "id": "02fe7ca4-bcdf-4dc3-a066-4def28483597"
    }
   },
   "outputs": [],
   "source": [
    "from sklearn.feature_extraction.text import (\n",
    "    CountVectorizer, \n",
    "    TfidfTransformer, \n",
    "    TfidfVectorizer,)"
   ]
  },
  {
   "cell_type": "code",
   "execution_count": 20,
   "metadata": {},
   "outputs": [],
   "source": [
    "train_x, train_y = train['text_prep'], train['sentiment']\n",
    "test_x, test_y = test['text_prep'], test['sentiment']"
   ]
  },
  {
   "cell_type": "code",
   "execution_count": 21,
   "metadata": {
    "nbpresent": {
     "id": "7c6f787e-5013-466a-869d-bf4b76f681e9"
    }
   },
   "outputs": [],
   "source": [
    "# Use topwords as vocabulary\n",
    "tf_vec = TfidfVectorizer(vocabulary=topwords)"
   ]
  },
  {
   "cell_type": "code",
   "execution_count": 22,
   "metadata": {
    "nbpresent": {
     "id": "64ba5bc9-96ea-4829-8a7e-cf5d01781087"
    }
   },
   "outputs": [],
   "source": [
    "train_features = tf_vec.fit_transform(train_x)\n",
    "test_features = tf_vec.transform(test_x)"
   ]
  },
  {
   "cell_type": "code",
   "execution_count": 23,
   "metadata": {
    "nbpresent": {
     "id": "71abd6d5-05a7-4075-bd7a-f49a07d2f1d7"
    }
   },
   "outputs": [],
   "source": [
    "assert train_features.shape == (25000, 10000)\n",
    "assert test_features.shape == (25000, 10000)"
   ]
  },
  {
   "cell_type": "code",
   "execution_count": 24,
   "metadata": {},
   "outputs": [
    {
     "data": {
      "text/plain": [
       "array([[0.        , 0.12884974, 0.        , ..., 0.        , 0.        ,\n",
       "        0.        ]])"
      ]
     },
     "execution_count": 24,
     "metadata": {},
     "output_type": "execute_result"
    }
   ],
   "source": [
    "train_features[0][:50].toarray()"
   ]
  },
  {
   "cell_type": "markdown",
   "metadata": {
    "nbpresent": {
     "id": "4ecfbfb7-9b24-499f-a4b4-087e3183b7ee"
    }
   },
   "source": [
    "## Training \n",
    "\n",
    "### Multinomial NB\n",
    "suitable for classfication with discrete features"
   ]
  },
  {
   "cell_type": "code",
   "execution_count": 25,
   "metadata": {
    "nbpresent": {
     "id": "eef54d8f-0863-4285-bf5a-fa301dff8678"
    }
   },
   "outputs": [],
   "source": [
    "from sklearn.naive_bayes import MultinomialNB"
   ]
  },
  {
   "cell_type": "code",
   "execution_count": 26,
   "metadata": {
    "nbpresent": {
     "id": "08172515-7b9a-4a38-967b-fcea2ac03b4b"
    }
   },
   "outputs": [
    {
     "data": {
      "text/plain": [
       "MultinomialNB(alpha=1.0, class_prior=None, fit_prior=True)"
      ]
     },
     "execution_count": 26,
     "metadata": {},
     "output_type": "execute_result"
    }
   ],
   "source": [
    "mnb_model = MultinomialNB()\n",
    "mnb_model"
   ]
  },
  {
   "cell_type": "code",
   "execution_count": 27,
   "metadata": {
    "nbpresent": {
     "id": "2e1f0988-c008-441d-a60a-797620243dce"
    }
   },
   "outputs": [
    {
     "name": "stdout",
     "output_type": "stream",
     "text": [
      "CPU times: user 63.5 ms, sys: 2.57 ms, total: 66 ms\n",
      "Wall time: 68.6 ms\n"
     ]
    },
    {
     "data": {
      "text/plain": [
       "MultinomialNB(alpha=1.0, class_prior=None, fit_prior=True)"
      ]
     },
     "execution_count": 27,
     "metadata": {},
     "output_type": "execute_result"
    }
   ],
   "source": [
    "%%time\n",
    "\n",
    "# Train Model\n",
    "mnb_model.fit(train_features, train_y)"
   ]
  },
  {
   "cell_type": "markdown",
   "metadata": {},
   "source": [
    "## Evaluation"
   ]
  },
  {
   "cell_type": "code",
   "execution_count": 28,
   "metadata": {},
   "outputs": [],
   "source": [
    "from sklearn import metrics"
   ]
  },
  {
   "cell_type": "code",
   "execution_count": 29,
   "metadata": {
    "nbpresent": {
     "id": "f1a1e3f4-225f-4a59-ab02-82c874289bb1"
    }
   },
   "outputs": [
    {
     "name": "stdout",
     "output_type": "stream",
     "text": [
      "['neg' 'pos' 'pos' ... 'neg' 'neg' 'neg']\n"
     ]
    }
   ],
   "source": [
    "# Predict on test set\n",
    "pred = mnb_model.predict(test_features)\n",
    "print(pred)"
   ]
  },
  {
   "cell_type": "code",
   "execution_count": 30,
   "metadata": {
    "nbpresent": {
     "id": "42e5eacf-8353-47df-93db-72ebe1a713a8"
    }
   },
   "outputs": [
    {
     "name": "stdout",
     "output_type": "stream",
     "text": [
      "Accuracy Score: 0.833120\n"
     ]
    }
   ],
   "source": [
    "print('Accuracy Score: %f' % metrics.accuracy_score(pred,test_y))"
   ]
  },
  {
   "cell_type": "code",
   "execution_count": 31,
   "metadata": {
    "nbpresent": {
     "id": "1dc8a4ad-96e4-41f3-aeda-446c0799c0da"
    }
   },
   "outputs": [
    {
     "name": "stdout",
     "output_type": "stream",
     "text": [
      "              precision    recall  f1-score   support\n",
      "\n",
      "         neg       0.81      0.87      0.84     12500\n",
      "         pos       0.86      0.80      0.83     12500\n",
      "\n",
      "    accuracy                           0.83     25000\n",
      "   macro avg       0.83      0.83      0.83     25000\n",
      "weighted avg       0.83      0.83      0.83     25000\n",
      "\n"
     ]
    }
   ],
   "source": [
    "# Pass in as keyword arguments to make sure the order is correct\n",
    "print(metrics.classification_report(y_true=test_y, y_pred=pred))"
   ]
  },
  {
   "cell_type": "markdown",
   "metadata": {
    "nbpresent": {
     "id": "1bcd8bdb-bdb9-401a-b9ce-e29ccc320f83"
    }
   },
   "source": [
    "## Predict new text"
   ]
  },
  {
   "cell_type": "code",
   "execution_count": 32,
   "metadata": {
    "nbpresent": {
     "id": "1c0addbf-c65c-4d4a-89aa-fab535a72d35"
    }
   },
   "outputs": [],
   "source": [
    "def predict_new(prep_func,  # func for preprocessing\n",
    "                vec,        # vectorizer\n",
    "                model,      # model\n",
    "                text):      # text\n",
    "    \n",
    "    prep_text = prep_func(text)\n",
    "    features = vec.transform([prep_text])\n",
    "    pred = model.predict(features)\n",
    "    return pred[0]"
   ]
  },
  {
   "cell_type": "code",
   "execution_count": 33,
   "metadata": {},
   "outputs": [],
   "source": [
    "from functools import partial\n",
    "\n",
    "predict_new_p1 = partial(predict_new, preprocessing, tf_vec, mnb_model)"
   ]
  },
  {
   "cell_type": "code",
   "execution_count": 34,
   "metadata": {
    "nbpresent": {
     "id": "609df79f-52c5-42af-b849-e745afa397f7"
    }
   },
   "outputs": [
    {
     "data": {
      "text/plain": [
       "'pos'"
      ]
     },
     "execution_count": 34,
     "metadata": {},
     "output_type": "execute_result"
    }
   ],
   "source": [
    "predict_new_p1('It looks nice')"
   ]
  },
  {
   "cell_type": "code",
   "execution_count": 35,
   "metadata": {},
   "outputs": [
    {
     "data": {
      "text/plain": [
       "'neg'"
      ]
     },
     "execution_count": 35,
     "metadata": {},
     "output_type": "execute_result"
    }
   ],
   "source": [
    "predict_new_p1('It looks horible')"
   ]
  },
  {
   "cell_type": "markdown",
   "metadata": {
    "nbpresent": {
     "id": "5ae16efd-71c1-4465-a247-33af0bb9246a"
    }
   },
   "source": [
    "## Tunning hyper parameters"
   ]
  },
  {
   "cell_type": "code",
   "execution_count": 36,
   "metadata": {
    "nbpresent": {
     "id": "2d652ee5-fbc8-489b-8003-a79bd96d23db"
    }
   },
   "outputs": [],
   "source": [
    "def train_with_n_topwords(n: int, tfidf=False) -> tuple:\n",
    "    \"\"\"\n",
    "    Train and get the accuracy with different model settings\n",
    "    Args:\n",
    "        n: number of features (top frequent words in the vocabulary)\n",
    "        tfidf: whether do tf-idf re-weighting or not\n",
    "    Outputs:\n",
    "        tuple: (accuracy score, classifier, vectorizer)\n",
    "    \"\"\"\n",
    "    topwords = [word for word, _ in voca.most_common(n)]\n",
    "    \n",
    "    if tfidf:\n",
    "        vec = TfidfVectorizer(vocabulary=topwords)\n",
    "    else:\n",
    "        vec = CountVectorizer(vocabulary=topwords)\n",
    "    \n",
    "    # Generate feature vectors\n",
    "    train_features = vec.fit_transform(train_x)\n",
    "    test_features  = vec.transform(test_x)\n",
    "    \n",
    "    # NB\n",
    "    mnb_model = MultinomialNB()\n",
    "    mnb_model.fit(train_features, train_y)\n",
    "    \n",
    "    # Test predict\n",
    "    pred = mnb_model.predict(test_features)\n",
    "    \n",
    "    return metrics.accuracy_score(pred, test_y), mnb_model, vec\n",
    "\n",
    "# since the positive & negative class are 1:1 (balanced), accuracy_score is similar to the F-score. \n",
    "# Here use accuracy score as an indicator of how good the model is"
   ]
  },
  {
   "cell_type": "code",
   "execution_count": 37,
   "metadata": {
    "nbpresent": {
     "id": "2505b8b5-0bba-4cca-8ba0-93cac0501e3e"
    }
   },
   "outputs": [
    {
     "data": {
      "text/plain": [
       "(0.82496,\n",
       " MultinomialNB(alpha=1.0, class_prior=None, fit_prior=True),\n",
       " TfidfVectorizer(analyzer='word', binary=False, decode_error='strict',\n",
       "                 dtype=<class 'numpy.float64'>, encoding='utf-8',\n",
       "                 input='content', lowercase=True, max_df=1.0, max_features=None,\n",
       "                 min_df=1, ngram_range=(1, 1), norm='l2', preprocessor=None,\n",
       "                 smooth_idf=True, stop_words=None, strip_accents=None,\n",
       "                 sublinear_tf=False, token_pattern='(?u)\\\\b\\\\w\\\\w+\\\\b',\n",
       "                 tokenizer=None, use_idf=True,\n",
       "                 vocabulary=['film', 'movie', 'one', 'make', 'like', 'see',\n",
       "                             'get', 'time', 'good', 'character', 'go', 'watch',\n",
       "                             'even', 'would', 'think', 'story', 'really', 'well',\n",
       "                             'show', 'look', 'much', 'say', 'end', 'know',\n",
       "                             'people', 'bad', 'also', 'first', 'great', 'give', ...]))"
      ]
     },
     "execution_count": 37,
     "metadata": {},
     "output_type": "execute_result"
    }
   ],
   "source": [
    "train_with_n_topwords(500, tfidf=True)"
   ]
  },
  {
   "cell_type": "code",
   "execution_count": 38,
   "metadata": {
    "nbpresent": {
     "id": "1790e0a2-cf5d-45e4-a19a-e24005be2db1"
    }
   },
   "outputs": [
    {
     "data": {
      "application/vnd.jupyter.widget-view+json": {
       "model_id": "03546ee40d2b40a898f28009aad35861",
       "version_major": 2,
       "version_minor": 0
      },
      "text/plain": [
       "HBox(children=(IntProgress(value=0, max=19), HTML(value='')))"
      ]
     },
     "metadata": {},
     "output_type": "display_data"
    },
    {
     "name": "stdout",
     "output_type": "stream",
     "text": [
      "\n"
     ]
    }
   ],
   "source": [
    "possible_n = [500 * i for i in range(1, 20)]\n",
    "\n",
    "cnt_accuracies = []\n",
    "tfidf_accuracies = []\n",
    "\n",
    "for n in tqdm_notebook(possible_n):\n",
    "    cnt_accuracies.append(train_with_n_topwords(n)[0])\n",
    "    tfidf_accuracies.append(train_with_n_topwords(n, tfidf=True)[0])"
   ]
  },
  {
   "cell_type": "code",
   "execution_count": 39,
   "metadata": {
    "nbpresent": {
     "id": "4cb349db-39ae-4311-8521-1e055907abdd"
    }
   },
   "outputs": [
    {
     "data": {
      "image/png": "[encoded data removed]",
      "text/plain": [
       "<Figure size 432x288 with 1 Axes>"
      ]
     },
     "metadata": {
      "image/png": {
       "height": 248,
       "width": 384
      },
      "needs_background": "light"
     },
     "output_type": "display_data"
    }
   ],
   "source": [
    "import matplotlib.pyplot as plt\n",
    "%matplotlib inline\n",
    "%config InlineBackend.figure_format='retina'\n",
    "\n",
    "plt.plot(possible_n, cnt_accuracies, label='Word Count')\n",
    "plt.plot(possible_n, tfidf_accuracies, label='Tf-idf')\n",
    "plt.legend()\n",
    "plt.show()"
   ]
  },
  {
   "cell_type": "markdown",
   "metadata": {},
   "source": [
    "Tf-idf is definitely better than CountVectorizer alone! The best size of words is around 3000."
   ]
  },
  {
   "cell_type": "markdown",
   "metadata": {
    "nbpresent": {
     "id": "db997a18-0447-456d-a77f-d0f7a8c0b39a"
    }
   },
   "source": [
    "## Save model"
   ]
  },
  {
   "cell_type": "code",
   "execution_count": 40,
   "metadata": {},
   "outputs": [],
   "source": [
    "_, model, vec = train_with_n_topwords(3000, tfidf=True)"
   ]
  },
  {
   "cell_type": "code",
   "execution_count": 41,
   "metadata": {
    "nbpresent": {
     "id": "5558a033-1f08-45b4-8abe-ed974d685831"
    }
   },
   "outputs": [],
   "source": [
    "import pickle\n",
    "\n",
    "with open('tf_vec.pkl', 'wb') as fp:\n",
    "    pickle.dump(vec, fp)\n",
    "    \n",
    "with open('mnb_model.pkl', 'wb') as fp:\n",
    "    pickle.dump(model, fp)"
   ]
  },
  {
   "cell_type": "code",
   "execution_count": null,
   "metadata": {},
   "outputs": [],
   "source": [
    "!ls\n",
    "# !dir"
   ]
  }
 ],
 "metadata": {
  "kernelspec": {
   "display_name": "Python 3",
   "language": "python",
   "name": "python3"
  },
  "language_info": {
   "codemirror_mode": {
    "name": "ipython",
    "version": 3
   },
   "file_extension": ".py",
   "mimetype": "text/x-python",
   "name": "python",
   "nbconvert_exporter": "python",
   "pygments_lexer": "ipython3",
   "version": "3.7.3"
  }
 },
 "nbformat": 4,
 "nbformat_minor": 2
}
