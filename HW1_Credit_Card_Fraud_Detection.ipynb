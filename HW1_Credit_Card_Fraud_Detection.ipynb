{
 "cells": [
  {
   "cell_type": "markdown",
   "metadata": {
    "colab_type": "text",
    "id": "wNZNIBN0Lsvb",
    "slideshow": {
     "slide_type": "slide"
    }
   },
   "source": [
    "# Credit Card Fraud Detecting"
   ]
  },
  {
   "cell_type": "markdown",
   "metadata": {},
   "source": [
    "Imbalance Dataset. Anonymized features"
   ]
  },
  {
   "cell_type": "markdown",
   "metadata": {
    "colab_type": "text",
    "id": "3KzMVGQlLsve",
    "slideshow": {
     "slide_type": "slide"
    }
   },
   "source": [
    "## Kaggle's Credit Card Fraud Dataset - RF\n",
    "\n",
    "In this HW you'll apply a Logistic regression classifier to the problem of detecting credit card fraud.\n",
    "\n",
    "The data is from: https://www.kaggle.com/mlg-ulb/creditcardfraud\n",
    "\n",
    "Note that there are 28 anonymized variables in the data set and the charge amount. The variable \"Class\" is 0 for no fraud and 1 if the charge was fraudulent. \n",
    "\n",
    "The data set is in your data folder."
   ]
  },
  {
   "cell_type": "markdown",
   "metadata": {
    "colab_type": "text",
    "id": "SAgLLlsiLsve",
    "slideshow": {
     "slide_type": "slide"
    }
   },
   "source": [
    "## Questions\n",
    "\n",
    "1. Read in the data. How many observations do you have? What percentage of the data is fraudulent transactions? \n",
    "2. Create training (67% of the data) and test (33%) data sets. \n",
    "3. Fit a logistic regression classifier to the training data. \n",
    "4. Show the confusion matrix and accuracy for the training data. \n",
    "5. Show the confusion matrix and accuracy for the test data. Is there overfitting?\n",
    "6. Compute various other metrics you have learnt to assess the performance of your classifier and say if you are satisfied with its performance. \n",
    "7. Go ahead and try other techniques you might know of to improve the performance of your classifier. "
   ]
  },
  {
   "cell_type": "code",
   "execution_count": 1,
   "metadata": {},
   "outputs": [],
   "source": [
    "import pandas as pd\n",
    "import numpy as np\n",
    "import matplotlib\n",
    "import matplotlib.pyplot as plt\n",
    "import seaborn as sns\n",
    "%matplotlib inline\n",
    "plt.style.use('seaborn')\n",
    "from sklearn.linear_model import LogisticRegression\n",
    "from sklearn.model_selection import train_test_split\n",
    "from sklearn.metrics import accuracy_score, roc_auc_score, confusion_matrix, classification_report,precision_recall_curve,roc_curve,recall_score, auc\n",
    "from sklearn.model_selection import cross_val_score\n",
    "from sklearn.preprocessing import StandardScaler"
   ]
  },
  {
   "cell_type": "markdown",
   "metadata": {},
   "source": [
    "### 1. Read in the data. How many observations do you have? What percentage of the data is fraudulent transactions?"
   ]
  },
  {
   "cell_type": "code",
   "execution_count": 2,
   "metadata": {},
   "outputs": [],
   "source": [
    "df = pd.read_csv(\"DSTMAA_data/creditcard.csv\")"
   ]
  },
  {
   "cell_type": "code",
   "execution_count": 3,
   "metadata": {},
   "outputs": [
    {
     "data": {
      "text/plain": [
       "(284807, 31)"
      ]
     },
     "execution_count": 3,
     "metadata": {},
     "output_type": "execute_result"
    }
   ],
   "source": [
    "df.shape"
   ]
  },
  {
   "cell_type": "code",
   "execution_count": 4,
   "metadata": {
    "scrolled": true
   },
   "outputs": [
    {
     "data": {
      "text/plain": [
       "0.001727485630620034"
      ]
     },
     "execution_count": 4,
     "metadata": {},
     "output_type": "execute_result"
    }
   ],
   "source": [
    "df.Class.mean()"
   ]
  },
  {
   "cell_type": "code",
   "execution_count": 5,
   "metadata": {},
   "outputs": [
    {
     "name": "stdout",
     "output_type": "stream",
     "text": [
      "There are 284807.00 observations in this dataset.\n",
      "The percentage of fraudulent transactions : 0.1727485630620034 %\n"
     ]
    }
   ],
   "source": [
    "print('There are %.2f observations in this dataset.'%(len(df)))\n",
    "print(\"The percentage of fraudulent transactions : {} %\" .format(np.sum(df.Class==1) *100 /len(df.Class)))"
   ]
  },
  {
   "cell_type": "markdown",
   "metadata": {},
   "source": [
    "#### We have 284807 observations and 0.1727% of the data is fraudulent"
   ]
  },
  {
   "cell_type": "code",
   "execution_count": 6,
   "metadata": {},
   "outputs": [],
   "source": [
    "# Normalize the data\n",
    "df1 = df.copy()\n",
    "var = df1.drop(['Class'], axis=1).columns.tolist()"
   ]
  },
  {
   "cell_type": "code",
   "execution_count": 7,
   "metadata": {},
   "outputs": [
    {
     "name": "stdout",
     "output_type": "stream",
     "text": [
      "There are 31 features normally distributed.\n",
      "Top 5 features with highest P value:\n"
     ]
    },
    {
     "data": {
      "text/plain": [
       "V13      2.419974e-126\n",
       "Class     0.000000e+00\n",
       "V14       0.000000e+00\n",
       "V1        0.000000e+00\n",
       "V2        0.000000e+00\n",
       "dtype: float64"
      ]
     },
     "execution_count": 7,
     "metadata": {},
     "output_type": "execute_result"
    }
   ],
   "source": [
    "from scipy import stats\n",
    "norm_df = df1.apply(lambda x:stats.normaltest(x)[1])\n",
    "print(\"There are %d features normally distributed.\" % ((norm_df<0.05).sum()))\n",
    "print(\"Top 5 features with highest P value:\")\n",
    "norm_df.sort_values(ascending=False).head()"
   ]
  },
  {
   "cell_type": "code",
   "execution_count": 8,
   "metadata": {},
   "outputs": [],
   "source": [
    "std_scaler = StandardScaler()\n",
    "std_scaler.fit(df1[var].values) \n",
    "std_df = pd.DataFrame(std_scaler.transform(df1[var].values), columns = var)\n",
    "std_df['Class'] = df['Class']"
   ]
  },
  {
   "cell_type": "markdown",
   "metadata": {},
   "source": [
    "### 2. Create training (67% of the data) and test (33%) data sets."
   ]
  },
  {
   "cell_type": "code",
   "execution_count": 9,
   "metadata": {},
   "outputs": [],
   "source": [
    "X = std_df.drop(['Class'], axis=1)\n",
    "y = std_df['Class']"
   ]
  },
  {
   "cell_type": "code",
   "execution_count": 10,
   "metadata": {},
   "outputs": [],
   "source": [
    "# Evaluate the model by splitting into train and test sets\n",
    "X_train, X_test, y_train, y_test = train_test_split(X, y, test_size=0.33, random_state=0)"
   ]
  },
  {
   "cell_type": "markdown",
   "metadata": {},
   "source": [
    "### 3. Fit a logistic regression classifier to the training data.  "
   ]
  },
  {
   "cell_type": "code",
   "execution_count": 11,
   "metadata": {},
   "outputs": [
    {
     "data": {
      "text/plain": [
       "LogisticRegression(C=1.0, class_weight=None, dual=False, fit_intercept=True,\n",
       "                   intercept_scaling=1, l1_ratio=None, max_iter=100,\n",
       "                   multi_class='auto', n_jobs=None, penalty='l2',\n",
       "                   random_state=None, solver='lbfgs', tol=0.0001, verbose=0,\n",
       "                   warm_start=False)"
      ]
     },
     "execution_count": 11,
     "metadata": {},
     "output_type": "execute_result"
    }
   ],
   "source": [
    "model = LogisticRegression()\n",
    "model.fit(X_train, y_train)"
   ]
  },
  {
   "cell_type": "markdown",
   "metadata": {},
   "source": [
    "### 4. Show the confusion matrix and accuracy for the training data. "
   ]
  },
  {
   "cell_type": "code",
   "execution_count": 12,
   "metadata": {},
   "outputs": [
    {
     "name": "stdout",
     "output_type": "stream",
     "text": [
      "[[190463    121]\n",
      " [    27    209]]\n",
      "Accuracy = 0.9992243999580757\n"
     ]
    }
   ],
   "source": [
    "# Predict class labels for the training set\n",
    "pred_train = model.predict(X_train)\n",
    "print(confusion_matrix(pred_train, y_train))\n",
    "print('Accuracy =', accuracy_score(y_train, pred_train))"
   ]
  },
  {
   "cell_type": "markdown",
   "metadata": {},
   "source": [
    "### 5. Show the confusion matrix and accuracy for the test data. Is there overfitting?"
   ]
  },
  {
   "cell_type": "code",
   "execution_count": 13,
   "metadata": {},
   "outputs": [
    {
     "name": "stdout",
     "output_type": "stream",
     "text": [
      "[[93810    65]\n",
      " [   15    97]]\n",
      "Accuracy = 0.9991488184536159\n"
     ]
    }
   ],
   "source": [
    "# Predict class labels for the test set\n",
    "pred_test = model.predict(X_test)\n",
    "print(confusion_matrix(pred_test, y_test))\n",
    "print('Accuracy =', accuracy_score(y_test, pred_test))"
   ]
  },
  {
   "cell_type": "markdown",
   "metadata": {},
   "source": [
    "Yes, the data is imbalanced and there is overfitting "
   ]
  },
  {
   "cell_type": "markdown",
   "metadata": {},
   "source": [
    "### 6. Compute various other metrics you have learnt to assess the performance of your classifier and say if you are satisfied with its performance. "
   ]
  },
  {
   "cell_type": "markdown",
   "metadata": {},
   "source": [
    "##### 6.1 Calculate AUC and graph ROC curve"
   ]
  },
  {
   "cell_type": "code",
   "execution_count": 14,
   "metadata": {},
   "outputs": [
    {
     "name": "stdout",
     "output_type": "stream",
     "text": [
      "AUC = 0.9683328892441603\n"
     ]
    }
   ],
   "source": [
    "probs = model.predict_proba(X_test)\n",
    "print('AUC =', roc_auc_score(y_test, probs[:, 1]))"
   ]
  },
  {
   "cell_type": "code",
   "execution_count": 15,
   "metadata": {},
   "outputs": [
    {
     "data": {
      "image/png": "[encoded data removed]",
      "text/plain": [
       "<Figure size 432x288 with 1 Axes>"
      ]
     },
     "metadata": {
      "needs_background": "light"
     },
     "output_type": "display_data"
    },
    {
     "name": "stdout",
     "output_type": "stream",
     "text": [
      "Area under curve (AUC):  0.9683328892441603\n"
     ]
    }
   ],
   "source": [
    "y_score = model.predict_proba(X_test)[:,1]\n",
    "fpr, tpr, _ = roc_curve(y_test, y_score)\n",
    "\n",
    "plt.title('ROC curve')\n",
    "plt.xlabel('FPR(1-specificity)')\n",
    "plt.ylabel('TPR (Recall)')\n",
    "\n",
    "plt.plot(fpr,tpr)\n",
    "plt.plot((0,1), ls='dashed',color='black')\n",
    "plt.show()\n",
    "print('Area under curve (AUC): ', auc(fpr,tpr))"
   ]
  },
  {
   "cell_type": "code",
   "execution_count": 16,
   "metadata": {
    "scrolled": true
   },
   "outputs": [
    {
     "name": "stdout",
     "output_type": "stream",
     "text": [
      "              precision    recall  f1-score   support\n",
      "\n",
      "           0       1.00      1.00      1.00     93825\n",
      "           1       0.87      0.60      0.71       162\n",
      "\n",
      "    accuracy                           1.00     93987\n",
      "   macro avg       0.93      0.80      0.85     93987\n",
      "weighted avg       1.00      1.00      1.00     93987\n",
      "\n"
     ]
    }
   ],
   "source": [
    "print(classification_report(y_test, pred_test))"
   ]
  },
  {
   "cell_type": "markdown",
   "metadata": {},
   "source": [
    "The data is used for detecting credit card fraud, should focus on the recall value and the f1-score. Among the real positive values, we want to catch as much as possible. "
   ]
  },
  {
   "cell_type": "markdown",
   "metadata": {},
   "source": [
    "##### 6.2 Change Regulation Parameter"
   ]
  },
  {
   "cell_type": "code",
   "execution_count": 17,
   "metadata": {},
   "outputs": [],
   "source": [
    "# Find the best C value\n",
    "from sklearn.model_selection import validation_curve"
   ]
  },
  {
   "cell_type": "code",
   "execution_count": 18,
   "metadata": {},
   "outputs": [],
   "source": [
    "C_param_range = [0.001,0.01,0.1,1,10,100]\n",
    "\n",
    "AUC_table = pd.DataFrame(columns = ['C_parameter','roc_auc_score'])\n",
    "AUC_table['C_parameter'] = C_param_range\n",
    "\n",
    "j = 0\n",
    "for i in C_param_range:\n",
    "    \n",
    "    # Apply logistic regression model to training data\n",
    "    lr = LogisticRegression(penalty = 'l2', C = i,random_state = 0)\n",
    "    lr.fit(X_train,y_train)\n",
    "    \n",
    "    probs = lr.predict_proba(X_test)\n",
    "    \n",
    "    # Predict using model\n",
    "    #y_pred = lr.predict(X_test)\n",
    "    \n",
    "    # Saving accuracy score in table\n",
    "    AUC_table.iloc[j,1] = roc_auc_score(y_test, probs[:,1])\n",
    "    j += 1"
   ]
  },
  {
   "cell_type": "code",
   "execution_count": 19,
   "metadata": {},
   "outputs": [
    {
     "data": {
      "text/html": [
       "<div>\n",
       "<style scoped>\n",
       "    .dataframe tbody tr th:only-of-type {\n",
       "        vertical-align: middle;\n",
       "    }\n",
       "\n",
       "    .dataframe tbody tr th {\n",
       "        vertical-align: top;\n",
       "    }\n",
       "\n",
       "    .dataframe thead th {\n",
       "        text-align: right;\n",
       "    }\n",
       "</style>\n",
       "<table border=\"1\" class=\"dataframe\">\n",
       "  <thead>\n",
       "    <tr style=\"text-align: right;\">\n",
       "      <th></th>\n",
       "      <th>C_parameter</th>\n",
       "      <th>roc_auc_score</th>\n",
       "    </tr>\n",
       "  </thead>\n",
       "  <tbody>\n",
       "    <tr>\n",
       "      <th>0</th>\n",
       "      <td>0.001</td>\n",
       "      <td>0.976685</td>\n",
       "    </tr>\n",
       "    <tr>\n",
       "      <th>1</th>\n",
       "      <td>0.010</td>\n",
       "      <td>0.974072</td>\n",
       "    </tr>\n",
       "    <tr>\n",
       "      <th>2</th>\n",
       "      <td>0.100</td>\n",
       "      <td>0.969533</td>\n",
       "    </tr>\n",
       "    <tr>\n",
       "      <th>3</th>\n",
       "      <td>1.000</td>\n",
       "      <td>0.968333</td>\n",
       "    </tr>\n",
       "    <tr>\n",
       "      <th>4</th>\n",
       "      <td>10.000</td>\n",
       "      <td>0.96819</td>\n",
       "    </tr>\n",
       "    <tr>\n",
       "      <th>5</th>\n",
       "      <td>100.000</td>\n",
       "      <td>0.968173</td>\n",
       "    </tr>\n",
       "  </tbody>\n",
       "</table>\n",
       "</div>"
      ],
      "text/plain": [
       "   C_parameter roc_auc_score\n",
       "0        0.001      0.976685\n",
       "1        0.010      0.974072\n",
       "2        0.100      0.969533\n",
       "3        1.000      0.968333\n",
       "4       10.000       0.96819\n",
       "5      100.000      0.968173"
      ]
     },
     "execution_count": 19,
     "metadata": {},
     "output_type": "execute_result"
    }
   ],
   "source": [
    "AUC_table # 0.01 is the best "
   ]
  },
  {
   "cell_type": "markdown",
   "metadata": {},
   "source": [
    "###### Apply the optimal c_parameter into the logistics regression"
   ]
  },
  {
   "cell_type": "code",
   "execution_count": 20,
   "metadata": {},
   "outputs": [
    {
     "data": {
      "text/plain": [
       "LogisticRegression(C=0.01, class_weight=None, dual=False, fit_intercept=True,\n",
       "                   intercept_scaling=1, l1_ratio=None, max_iter=100,\n",
       "                   multi_class='auto', n_jobs=None, penalty='l2',\n",
       "                   random_state=None, solver='lbfgs', tol=0.0001, verbose=0,\n",
       "                   warm_start=False)"
      ]
     },
     "execution_count": 20,
     "metadata": {},
     "output_type": "execute_result"
    }
   ],
   "source": [
    "# Apply the optimal c_parameter into the logistics regression\n",
    "model2 = LogisticRegression(C = 0.01 )   # regulation for overfitting change C = 0.01\n",
    "model2.fit(X_train, y_train)"
   ]
  },
  {
   "cell_type": "code",
   "execution_count": 21,
   "metadata": {
    "scrolled": false
   },
   "outputs": [
    {
     "name": "stdout",
     "output_type": "stream",
     "text": [
      "[[93811    71]\n",
      " [   14    91]]\n",
      "Accuracy = 0.9990956196069669\n",
      "AUC = 0.9740717055984841\n",
      "              precision    recall  f1-score   support\n",
      "\n",
      "           0       1.00      1.00      1.00     93825\n",
      "           1       0.87      0.56      0.68       162\n",
      "\n",
      "    accuracy                           1.00     93987\n",
      "   macro avg       0.93      0.78      0.84     93987\n",
      "weighted avg       1.00      1.00      1.00     93987\n",
      "\n"
     ]
    }
   ],
   "source": [
    "predicted2 = model2.predict(X_test)\n",
    "probs2 = model2.predict_proba(X_test)\n",
    "print(confusion_matrix(predicted2, y_test))\n",
    "print('Accuracy =', accuracy_score(y_test, predicted2))\n",
    "print('AUC =', roc_auc_score(y_test, probs2[:, 1]))\n",
    "print(classification_report(y_test, predicted2))"
   ]
  },
  {
   "cell_type": "markdown",
   "metadata": {},
   "source": [
    "The recall and f1-score did not change by much, we are not satisfied about this performance"
   ]
  },
  {
   "cell_type": "markdown",
   "metadata": {},
   "source": [
    "###### 6.3 Try using Lasso by changing penalty to L1 (default is L2)"
   ]
  },
  {
   "cell_type": "code",
   "execution_count": 22,
   "metadata": {
    "scrolled": false
   },
   "outputs": [
    {
     "data": {
      "text/plain": [
       "LogisticRegression(C=0.1, class_weight=None, dual=False, fit_intercept=True,\n",
       "                   intercept_scaling=1, l1_ratio=None, max_iter=100,\n",
       "                   multi_class='auto', n_jobs=None, penalty='l1',\n",
       "                   random_state=None, solver='liblinear', tol=0.0001, verbose=0,\n",
       "                   warm_start=False)"
      ]
     },
     "execution_count": 22,
     "metadata": {},
     "output_type": "execute_result"
    }
   ],
   "source": [
    "Logit_Lasso = LogisticRegression(penalty='l1',solver='liblinear',C=0.1)\n",
    "Logit_Lasso.fit(X_train, y_train)"
   ]
  },
  {
   "cell_type": "code",
   "execution_count": 23,
   "metadata": {},
   "outputs": [
    {
     "name": "stdout",
     "output_type": "stream",
     "text": [
      "[[93811    68]\n",
      " [   14    94]]\n",
      "Accuracy = 0.9991275389149563\n"
     ]
    }
   ],
   "source": [
    "# Predict class labels for the test set\n",
    "pred_test_lasso = Logit_Lasso.predict(X_test)\n",
    "print(confusion_matrix(pred_test_lasso, y_test))\n",
    "print('Accuracy =', accuracy_score(y_test, pred_test_lasso))"
   ]
  },
  {
   "cell_type": "code",
   "execution_count": 24,
   "metadata": {
    "scrolled": true
   },
   "outputs": [
    {
     "name": "stdout",
     "output_type": "stream",
     "text": [
      "              precision    recall  f1-score   support\n",
      "\n",
      "           0       1.00      1.00      1.00     93825\n",
      "           1       0.87      0.58      0.70       162\n",
      "\n",
      "    accuracy                           1.00     93987\n",
      "   macro avg       0.93      0.79      0.85     93987\n",
      "weighted avg       1.00      1.00      1.00     93987\n",
      "\n"
     ]
    }
   ],
   "source": [
    "print(classification_report(y_test, pred_test_lasso))"
   ]
  },
  {
   "cell_type": "markdown",
   "metadata": {},
   "source": [
    "Again, the recall and f1-score did not change much, we are not satisfied with this performance"
   ]
  },
  {
   "cell_type": "markdown",
   "metadata": {},
   "source": [
    "### 7. Go ahead and try other techniques you might know of to improve the performance of your classifier."
   ]
  },
  {
   "cell_type": "markdown",
   "metadata": {},
   "source": [
    "###### Oversampling"
   ]
  },
  {
   "cell_type": "code",
   "execution_count": 25,
   "metadata": {},
   "outputs": [],
   "source": [
    "from imblearn.over_sampling import SMOTE\n",
    "\n",
    "X_train_2, X_test_2, y_train_2, y_test_2 = train_test_split(X, y, test_size = 0.2, random_state = 0)\n",
    "\n",
    "sm = SMOTE(random_state = 2)\n",
    "X_train_res, y_train_res = sm.fit_sample(X_train_2, y_train_2.ravel())\n",
    "\n",
    "clf = LogisticRegression(C = 0.01)\n",
    "model_res = clf.fit(X_train_res, y_train_res)"
   ]
  },
  {
   "cell_type": "code",
   "execution_count": 26,
   "metadata": {},
   "outputs": [
    {
     "name": "stdout",
     "output_type": "stream",
     "text": [
      "AUC = 0.9856540032223796\n",
      "Accuracy = 0.9752993223552544\n",
      "              precision    recall  f1-score   support\n",
      "\n",
      "           0       0.98      1.00      0.99     55466\n",
      "           1       0.94      0.06      0.12      1496\n",
      "\n",
      "    accuracy                           0.98     56962\n",
      "   macro avg       0.96      0.53      0.55     56962\n",
      "weighted avg       0.97      0.98      0.96     56962\n",
      "\n"
     ]
    }
   ],
   "source": [
    "predicted_over = model_res.predict(X_test_2)\n",
    "probs_over = model_res.predict_proba(X_test_2)\n",
    "print('AUC =', roc_auc_score(y_test_2, probs_over[:, 1]))\n",
    "print('Accuracy =', accuracy_score(y_test_2, predicted_over))\n",
    "print(classification_report(predicted_over, y_test_2))\n",
    "# recall drops to 0.06 "
   ]
  },
  {
   "cell_type": "markdown",
   "metadata": {},
   "source": [
    "###### Random Forest with oversampling "
   ]
  },
  {
   "cell_type": "code",
   "execution_count": 27,
   "metadata": {},
   "outputs": [],
   "source": [
    "from sklearn import ensemble\n",
    "rf = ensemble.RandomForestClassifier(random_state=0)"
   ]
  },
  {
   "cell_type": "code",
   "execution_count": 28,
   "metadata": {},
   "outputs": [],
   "source": [
    "model_rf = rf.fit(X_train_2, y_train_2)"
   ]
  },
  {
   "cell_type": "code",
   "execution_count": 29,
   "metadata": {},
   "outputs": [
    {
     "name": "stdout",
     "output_type": "stream",
     "text": [
      "AUC = 0.9440282634689666\n",
      "Accuracy = 0.9994908886626171\n",
      "              precision    recall  f1-score   support\n",
      "\n",
      "           0       1.00      1.00      1.00     56876\n",
      "           1       0.78      0.92      0.84        86\n",
      "\n",
      "    accuracy                           1.00     56962\n",
      "   macro avg       0.89      0.96      0.92     56962\n",
      "weighted avg       1.00      1.00      1.00     56962\n",
      "\n"
     ]
    }
   ],
   "source": [
    "predicted_rf = model_rf.predict(X_test_2)\n",
    "probs_rf = model_rf.predict_proba(X_test_2)\n",
    "print('AUC =', roc_auc_score(y_test_2, probs_rf[:, 1]))\n",
    "print('Accuracy =', accuracy_score(y_test_2, predicted_rf))\n",
    "print(classification_report(predicted_rf, y_test_2))"
   ]
  },
  {
   "cell_type": "markdown",
   "metadata": {},
   "source": [
    "###### Random Forest with original data"
   ]
  },
  {
   "cell_type": "code",
   "execution_count": 30,
   "metadata": {},
   "outputs": [],
   "source": [
    "model_rf2 = rf.fit(X_train, y_train)"
   ]
  },
  {
   "cell_type": "code",
   "execution_count": 31,
   "metadata": {
    "scrolled": true
   },
   "outputs": [
    {
     "name": "stdout",
     "output_type": "stream",
     "text": [
      "AUC = 0.9427695045609603\n",
      "Accuracy = 0.9994999308414994\n",
      "              precision    recall  f1-score   support\n",
      "\n",
      "           0       1.00      1.00      1.00     93852\n",
      "           1       0.77      0.93      0.84       135\n",
      "\n",
      "    accuracy                           1.00     93987\n",
      "   macro avg       0.89      0.96      0.92     93987\n",
      "weighted avg       1.00      1.00      1.00     93987\n",
      "\n"
     ]
    }
   ],
   "source": [
    "predicted_rf2 = model_rf2.predict(X_test)\n",
    "probs_rf2 = model_rf2.predict_proba(X_test)\n",
    "print('AUC =', roc_auc_score(y_test, probs_rf2[:, 1]))\n",
    "print('Accuracy =', accuracy_score(y_test, predicted_rf2))\n",
    "print(classification_report(predicted_rf2, y_test))"
   ]
  }
 ],
 "metadata": {
  "colab": {
   "collapsed_sections": [],
   "name": "HW1-CC_Fraud_Questions.ipynb",
   "provenance": [],
   "version": "0.3.2"
  },
  "kernelspec": {
   "display_name": "Python 3",
   "language": "python",
   "name": "python3"
  },
  "language_info": {
   "codemirror_mode": {
    "name": "ipython",
    "version": 3
   },
   "file_extension": ".py",
   "mimetype": "text/x-python",
   "name": "python",
   "nbconvert_exporter": "python",
   "pygments_lexer": "ipython3",
   "version": "3.7.3"
  }
 },
 "nbformat": 4,
 "nbformat_minor": 1
}
